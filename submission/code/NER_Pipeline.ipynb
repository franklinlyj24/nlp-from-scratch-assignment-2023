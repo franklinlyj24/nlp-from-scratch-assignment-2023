{
  "cells": [
    {
      "cell_type": "markdown",
      "metadata": {
        "id": "4WMDXkUfE6Ol"
      },
      "source": [
        "## Install Dependencies"
      ]
    },
    {
      "cell_type": "code",
      "execution_count": 1,
      "metadata": {
        "colab": {
          "base_uri": "https://localhost:8080/"
        },
        "id": "s1pRlhzjE-J0",
        "outputId": "699124ad-ed41-4abd-e2df-35c2ed7a51ac"
      },
      "outputs": [
        {
          "name": "stdout",
          "output_type": "stream",
          "text": [
            "Requirement already satisfied: accelerate==0.23.0 in /home/renyit/torch/lib/python3.10/site-packages (0.23.0)\n",
            "Requirement already satisfied: datasets in /home/renyit/torch/lib/python3.10/site-packages (2.14.6)\n",
            "Requirement already satisfied: evaluate in /home/renyit/torch/lib/python3.10/site-packages (0.4.1)\n",
            "Requirement already satisfied: transformers in /home/renyit/torch/lib/python3.10/site-packages (4.34.1)\n",
            "Requirement already satisfied: seqeval in /home/renyit/torch/lib/python3.10/site-packages (1.2.2)\n",
            "Requirement already satisfied: ipywidgets in /home/renyit/torch/lib/python3.10/site-packages (8.1.1)\n",
            "Requirement already satisfied: peft in /home/renyit/torch/lib/python3.10/site-packages (0.5.0)\n",
            "Requirement already satisfied: pyyaml in /home/renyit/torch/lib/python3.10/site-packages (from accelerate==0.23.0) (6.0.1)\n",
            "Requirement already satisfied: torch>=1.10.0 in /home/renyit/torch/lib/python3.10/site-packages (from accelerate==0.23.0) (2.0.0+cu117)\n",
            "Requirement already satisfied: huggingface-hub in /home/renyit/torch/lib/python3.10/site-packages (from accelerate==0.23.0) (0.16.4)\n",
            "Requirement already satisfied: packaging>=20.0 in /home/renyit/torch/lib/python3.10/site-packages (from accelerate==0.23.0) (23.1)\n",
            "Requirement already satisfied: numpy>=1.17 in /home/renyit/torch/lib/python3.10/site-packages (from accelerate==0.23.0) (1.24.3)\n",
            "Requirement already satisfied: psutil in /home/renyit/torch/lib/python3.10/site-packages (from accelerate==0.23.0) (5.9.6)\n",
            "Requirement already satisfied: requests>=2.19.0 in /home/renyit/torch/lib/python3.10/site-packages (from datasets) (2.31.0)\n",
            "Requirement already satisfied: aiohttp in /home/renyit/torch/lib/python3.10/site-packages (from datasets) (3.8.6)\n",
            "Requirement already satisfied: pyarrow>=8.0.0 in /home/renyit/torch/lib/python3.10/site-packages (from datasets) (13.0.0)\n",
            "Requirement already satisfied: xxhash in /home/renyit/torch/lib/python3.10/site-packages (from datasets) (3.4.1)\n",
            "Requirement already satisfied: tqdm>=4.62.1 in /home/renyit/torch/lib/python3.10/site-packages (from datasets) (4.66.1)\n",
            "Requirement already satisfied: multiprocess in /home/renyit/torch/lib/python3.10/site-packages (from datasets) (0.70.15)\n",
            "Requirement already satisfied: fsspec[http]<=2023.10.0,>=2023.1.0 in /home/renyit/torch/lib/python3.10/site-packages (from datasets) (2023.9.2)\n",
            "Requirement already satisfied: pandas in /home/renyit/torch/lib/python3.10/site-packages (from datasets) (2.1.1)\n",
            "Requirement already satisfied: dill<0.3.8,>=0.3.0 in /home/renyit/torch/lib/python3.10/site-packages (from datasets) (0.3.7)\n",
            "Requirement already satisfied: responses<0.19 in /home/renyit/torch/lib/python3.10/site-packages (from evaluate) (0.18.0)\n",
            "Requirement already satisfied: safetensors>=0.3.1 in /home/renyit/torch/lib/python3.10/site-packages (from transformers) (0.4.0)\n",
            "Requirement already satisfied: filelock in /home/renyit/torch/lib/python3.10/site-packages (from transformers) (3.9.0)\n",
            "Requirement already satisfied: tokenizers<0.15,>=0.14 in /home/renyit/torch/lib/python3.10/site-packages (from transformers) (0.14.0)\n",
            "Requirement already satisfied: regex!=2019.12.17 in /home/renyit/torch/lib/python3.10/site-packages (from transformers) (2023.10.3)\n",
            "Requirement already satisfied: scikit-learn>=0.21.3 in /home/renyit/torch/lib/python3.10/site-packages (from seqeval) (1.3.1)\n",
            "Requirement already satisfied: comm>=0.1.3 in /home/renyit/torch/lib/python3.10/site-packages (from ipywidgets) (0.1.4)\n",
            "Requirement already satisfied: ipython>=6.1.0 in /home/renyit/torch/lib/python3.10/site-packages (from ipywidgets) (8.16.1)\n",
            "Requirement already satisfied: traitlets>=4.3.1 in /home/renyit/torch/lib/python3.10/site-packages (from ipywidgets) (5.12.0)\n",
            "Requirement already satisfied: widgetsnbextension~=4.0.9 in /home/renyit/torch/lib/python3.10/site-packages (from ipywidgets) (4.0.9)\n",
            "Requirement already satisfied: jupyterlab-widgets~=3.0.9 in /home/renyit/torch/lib/python3.10/site-packages (from ipywidgets) (3.0.9)\n",
            "Requirement already satisfied: frozenlist>=1.1.1 in /home/renyit/torch/lib/python3.10/site-packages (from aiohttp->datasets) (1.4.0)\n",
            "Requirement already satisfied: multidict<7.0,>=4.5 in /home/renyit/torch/lib/python3.10/site-packages (from aiohttp->datasets) (6.0.4)\n",
            "Requirement already satisfied: charset-normalizer<4.0,>=2.0 in /home/renyit/torch/lib/python3.10/site-packages (from aiohttp->datasets) (2.1.1)\n",
            "Requirement already satisfied: yarl<2.0,>=1.0 in /home/renyit/torch/lib/python3.10/site-packages (from aiohttp->datasets) (1.9.2)\n",
            "Requirement already satisfied: attrs>=17.3.0 in /home/renyit/torch/lib/python3.10/site-packages (from aiohttp->datasets) (23.1.0)\n",
            "Requirement already satisfied: async-timeout<5.0,>=4.0.0a3 in /home/renyit/torch/lib/python3.10/site-packages (from aiohttp->datasets) (4.0.3)\n",
            "Requirement already satisfied: aiosignal>=1.1.2 in /home/renyit/torch/lib/python3.10/site-packages (from aiohttp->datasets) (1.3.1)\n",
            "Requirement already satisfied: typing-extensions>=3.7.4.3 in /home/renyit/torch/lib/python3.10/site-packages (from huggingface-hub->accelerate==0.23.0) (4.8.0)\n",
            "Requirement already satisfied: decorator in /home/renyit/torch/lib/python3.10/site-packages (from ipython>=6.1.0->ipywidgets) (5.1.1)\n",
            "Requirement already satisfied: jedi>=0.16 in /home/renyit/torch/lib/python3.10/site-packages (from ipython>=6.1.0->ipywidgets) (0.19.1)\n",
            "Requirement already satisfied: pygments>=2.4.0 in /home/renyit/torch/lib/python3.10/site-packages (from ipython>=6.1.0->ipywidgets) (2.16.1)\n",
            "Requirement already satisfied: pexpect>4.3 in /home/renyit/torch/lib/python3.10/site-packages (from ipython>=6.1.0->ipywidgets) (4.8.0)\n",
            "Requirement already satisfied: pickleshare in /home/renyit/torch/lib/python3.10/site-packages (from ipython>=6.1.0->ipywidgets) (0.7.5)\n",
            "Requirement already satisfied: matplotlib-inline in /home/renyit/torch/lib/python3.10/site-packages (from ipython>=6.1.0->ipywidgets) (0.1.6)\n",
            "Requirement already satisfied: exceptiongroup in /home/renyit/torch/lib/python3.10/site-packages (from ipython>=6.1.0->ipywidgets) (1.1.3)\n",
            "Requirement already satisfied: backcall in /home/renyit/torch/lib/python3.10/site-packages (from ipython>=6.1.0->ipywidgets) (0.2.0)\n",
            "Requirement already satisfied: stack-data in /home/renyit/torch/lib/python3.10/site-packages (from ipython>=6.1.0->ipywidgets) (0.6.3)\n",
            "Requirement already satisfied: prompt-toolkit!=3.0.37,<3.1.0,>=3.0.30 in /home/renyit/torch/lib/python3.10/site-packages (from ipython>=6.1.0->ipywidgets) (3.0.39)\n",
            "Requirement already satisfied: certifi>=2017.4.17 in /home/renyit/torch/lib/python3.10/site-packages (from requests>=2.19.0->datasets) (2022.12.7)\n",
            "Requirement already satisfied: urllib3<3,>=1.21.1 in /home/renyit/torch/lib/python3.10/site-packages (from requests>=2.19.0->datasets) (1.26.16)\n",
            "Requirement already satisfied: idna<4,>=2.5 in /home/renyit/torch/lib/python3.10/site-packages (from requests>=2.19.0->datasets) (3.4)\n",
            "Requirement already satisfied: threadpoolctl>=2.0.0 in /home/renyit/torch/lib/python3.10/site-packages (from scikit-learn>=0.21.3->seqeval) (3.2.0)\n",
            "Requirement already satisfied: scipy>=1.5.0 in /home/renyit/torch/lib/python3.10/site-packages (from scikit-learn>=0.21.3->seqeval) (1.11.2)\n",
            "Requirement already satisfied: joblib>=1.1.1 in /home/renyit/torch/lib/python3.10/site-packages (from scikit-learn>=0.21.3->seqeval) (1.3.2)\n",
            "Requirement already satisfied: triton==2.0.0 in /home/renyit/torch/lib/python3.10/site-packages (from torch>=1.10.0->accelerate==0.23.0) (2.0.0)\n",
            "Requirement already satisfied: jinja2 in /home/renyit/torch/lib/python3.10/site-packages (from torch>=1.10.0->accelerate==0.23.0) (3.1.2)\n",
            "Requirement already satisfied: sympy in /home/renyit/torch/lib/python3.10/site-packages (from torch>=1.10.0->accelerate==0.23.0) (1.12)\n",
            "Requirement already satisfied: networkx in /home/renyit/torch/lib/python3.10/site-packages (from torch>=1.10.0->accelerate==0.23.0) (3.0)\n",
            "Requirement already satisfied: lit in /home/renyit/torch/lib/python3.10/site-packages (from triton==2.0.0->torch>=1.10.0->accelerate==0.23.0) (15.0.7)\n",
            "Requirement already satisfied: cmake in /home/renyit/torch/lib/python3.10/site-packages (from triton==2.0.0->torch>=1.10.0->accelerate==0.23.0) (3.25.0)\n",
            "Requirement already satisfied: python-dateutil>=2.8.2 in /home/renyit/torch/lib/python3.10/site-packages (from pandas->datasets) (2.8.2)\n",
            "Requirement already satisfied: tzdata>=2022.1 in /home/renyit/torch/lib/python3.10/site-packages (from pandas->datasets) (2023.3)\n",
            "Requirement already satisfied: pytz>=2020.1 in /home/renyit/torch/lib/python3.10/site-packages (from pandas->datasets) (2022.7.1)\n",
            "Requirement already satisfied: parso<0.9.0,>=0.8.3 in /home/renyit/torch/lib/python3.10/site-packages (from jedi>=0.16->ipython>=6.1.0->ipywidgets) (0.8.3)\n",
            "Requirement already satisfied: ptyprocess>=0.5 in /home/renyit/torch/lib/python3.10/site-packages (from pexpect>4.3->ipython>=6.1.0->ipywidgets) (0.7.0)\n",
            "Requirement already satisfied: wcwidth in /home/renyit/torch/lib/python3.10/site-packages (from prompt-toolkit!=3.0.37,<3.1.0,>=3.0.30->ipython>=6.1.0->ipywidgets) (0.2.8)\n",
            "Requirement already satisfied: six>=1.5 in /home/renyit/torch/lib/python3.10/site-packages (from python-dateutil>=2.8.2->pandas->datasets) (1.16.0)\n",
            "Requirement already satisfied: MarkupSafe>=2.0 in /home/renyit/torch/lib/python3.10/site-packages (from jinja2->torch>=1.10.0->accelerate==0.23.0) (2.1.2)\n",
            "Requirement already satisfied: pure-eval in /home/renyit/torch/lib/python3.10/site-packages (from stack-data->ipython>=6.1.0->ipywidgets) (0.2.2)\n",
            "Requirement already satisfied: executing>=1.2.0 in /home/renyit/torch/lib/python3.10/site-packages (from stack-data->ipython>=6.1.0->ipywidgets) (2.0.0)\n",
            "Requirement already satisfied: asttokens>=2.1.0 in /home/renyit/torch/lib/python3.10/site-packages (from stack-data->ipython>=6.1.0->ipywidgets) (2.4.0)\n",
            "Requirement already satisfied: mpmath>=0.19 in /home/renyit/torch/lib/python3.10/site-packages (from sympy->torch>=1.10.0->accelerate==0.23.0) (1.3.0)\n"
          ]
        }
      ],
      "source": [
        "!pip install accelerate==0.23.0 datasets evaluate transformers seqeval ipywidgets peft"
      ]
    },
    {
      "cell_type": "code",
      "execution_count": 2,
      "metadata": {
        "id": "mSHRQNoSJU4w"
      },
      "outputs": [],
      "source": [
        "import torch\n",
        "device = \"cuda:0\" if torch.cuda.is_available() else \"cpu\"\n",
        "if device != \"cpu\":\n",
        "  torch.cuda.set_device(device)"
      ]
    },
    {
      "cell_type": "code",
      "execution_count": 3,
      "metadata": {
        "id": "01svTaOLmdDL"
      },
      "outputs": [],
      "source": [
        "from datasets import load_dataset\n",
        "from transformers import (\n",
        "    AutoModelForTokenClassification,\n",
        "    AutoTokenizer,\n",
        "    DataCollatorForTokenClassification,\n",
        "    TrainingArguments,\n",
        "    Trainer,\n",
        ")\n",
        "from peft import get_peft_config, PeftModel, PeftConfig, get_peft_model, LoraConfig, TaskType\n",
        "import evaluate\n",
        "import torch\n",
        "import numpy as np"
      ]
    },
    {
      "cell_type": "markdown",
      "metadata": {
        "id": "1-skAdcNFEPY"
      },
      "source": [
        "## Preprocess CONLL data input"
      ]
    },
    {
      "cell_type": "code",
      "execution_count": 4,
      "metadata": {
        "id": "SHheBgcuFDgR"
      },
      "outputs": [],
      "source": [
        "# labels\n",
        "label_names = ['O', 'B-MethodName', 'I-MethodName', 'B-HyperparameterName', 'I-HyperparameterName', 'B-HyperparameterValue', 'I-HyperparameterValue',\n",
        "               'B-MetricName', 'I-MetricName', 'B-MetricValue', 'I-MetricValue', 'B-TaskName', 'I-TaskName', 'B-DatasetName', 'I-DatasetName']\n",
        "\n",
        "id2label = {i: label for i, label in enumerate(label_names)}\n",
        "label2id = {v: k for k, v in id2label.items()}\n",
        "\n",
        "from datasets import Dataset\n",
        "import os\n",
        "def generate_dataset(data_dir):\n",
        "  dataset = []\n",
        "\n",
        "  conll_files = os.listdir(data_dir)\n",
        "  for filename in conll_files:\n",
        "    if \"conll\" in filename:\n",
        "      filename = os.path.join(data_dir, filename)\n",
        "      dataset += parse_conll(filename, label2id)\n",
        "  return dataset\n",
        "\n",
        "def parse_conll(filename, label2id):\n",
        "    with open(filename) as f:\n",
        "      lines = f.readlines()\n",
        "      lines_info_list = []\n",
        "      line_info = {\"tokens\": [], \"tags\": []}\n",
        "      for line in lines:\n",
        "        if line == \"\\n\":\n",
        "          line_info[\"tags\"] = [label2id[tag] for tag in line_info[\"tags\"]]\n",
        "          lines_info_list.append(line_info)\n",
        "          line_info = {\"tokens\": [], \"tags\": []}\n",
        "        else:\n",
        "          if \"DOCSTART\" in line:\n",
        "            continue\n",
        "          try:\n",
        "            token, _, _, tag = line.rstrip().split()\n",
        "\n",
        "            line_info[\"tokens\"].append(token)\n",
        "            line_info[\"tags\"].append(tag)\n",
        "          except:\n",
        "            continue\n",
        "    return lines_info_list\n",
        "\n",
        "data_list = generate_dataset(\".\")\n",
        "raw_dataset = Dataset.from_list(data_list)"
      ]
    },
    {
      "cell_type": "code",
      "execution_count": 5,
      "metadata": {
        "colab": {
          "base_uri": "https://localhost:8080/"
        },
        "id": "UYdIe_uFpQrL",
        "outputId": "a29eec10-9536-4c9f-f433-5a7bc79605fa"
      },
      "outputs": [
        {
          "data": {
            "text/plain": [
              "Dataset({\n",
              "    features: ['tokens', 'tags'],\n",
              "    num_rows: 6027\n",
              "})"
            ]
          },
          "execution_count": 5,
          "metadata": {},
          "output_type": "execute_result"
        }
      ],
      "source": [
        "raw_dataset"
      ]
    },
    {
      "cell_type": "markdown",
      "metadata": {
        "id": "O79cK_NeGprA"
      },
      "source": [
        "## Tokenize Dataset"
      ]
    },
    {
      "cell_type": "code",
      "execution_count": 6,
      "metadata": {
        "colab": {
          "base_uri": "https://localhost:8080/",
          "height": 49,
          "referenced_widgets": [
            "119b7b87b4d14da28982628c0983d7d0",
            "c5e20ed8e57f46e1be147b41e80393cd",
            "c958b9878fcc4041bc8b4e1fcddebc9d",
            "57e5bdc1fe4b43868ac623e754b03a56",
            "53086320c6d0495bbde777971ba5f14e",
            "295cb1975ad6471bb4e891961a2c9456",
            "595cbbd81f6c4a1e886ecc20c56b4901",
            "e6e54f21bc9d46f9857d63f61f84e1e0",
            "d4b2d737fb9d46569ed861376188ae30",
            "1abda2376c434f1482916578f6a36c40",
            "1e6c9db532394d23aaf5b4de593dbd79"
          ]
        },
        "id": "Hxc6Ofe_EmqM",
        "outputId": "0657c20f-1fa3-4afd-e479-6b4b1ff87c17"
      },
      "outputs": [
        {
          "data": {
            "application/vnd.jupyter.widget-view+json": {
              "model_id": "dca48e33df47406abd380d291fb7c472",
              "version_major": 2,
              "version_minor": 0
            },
            "text/plain": [
              "Map:   0%|          | 0/6027 [00:00<?, ? examples/s]"
            ]
          },
          "metadata": {},
          "output_type": "display_data"
        }
      ],
      "source": [
        "from transformers import AutoTokenizer, AutoModelForTokenClassification, DataCollatorForTokenClassification\n",
        "\n",
        "\"\"\"\n",
        "Model choices:\n",
        "- bert-base-cased\n",
        "- bert-base-uncased\n",
        "- dslim/bert-base-NER\n",
        "- dbmdz/bert-large-cased-finetuned-conll03-english\n",
        "- dslim/bert-large-NER\n",
        "- QCRI/bert-base-multilingual-cased-pos-english\n",
        "- Jean-Baptiste/roberta-large-ner-english\n",
        "- sileod/deberta-v3-base-tasksource-nli\n",
        "\"\"\"\n",
        "model_checkpoint = \"dslim/bert-base-NER\"\n",
        "lr = 1e-5\n",
        "batch_size = 8\n",
        "num_epochs = 1\n",
        "\n",
        "# tokenizer = AutoTokenizer.from_pretrained(model_checkpoint)\n",
        "tokenizer = AutoTokenizer.from_pretrained(model_checkpoint, add_prefix_space=True)\n",
        "\n",
        "# build tokenized dataset\n",
        "def align_labels_with_tokens(labels, word_ids):\n",
        "    new_labels = []\n",
        "    current_word = None\n",
        "    for word_id in word_ids:\n",
        "        if word_id != current_word:\n",
        "            # Start of a new word!\n",
        "            current_word = word_id\n",
        "            label = -100 if word_id is None else labels[word_id]\n",
        "            new_labels.append(label)\n",
        "        elif word_id is None:\n",
        "            # Special token\n",
        "            new_labels.append(-100)\n",
        "        else:\n",
        "            # Same word as previous token\n",
        "            label = labels[word_id]\n",
        "            # If the label is B-XXX we change it to I-XXX\n",
        "            if label % 2 == 1:\n",
        "                label += 1\n",
        "            new_labels.append(label)\n",
        "\n",
        "    return new_labels\n",
        "\n",
        "def tokenize_and_align_labels(examples):\n",
        "    tokenized_inputs = tokenizer(\n",
        "        examples[\"tokens\"], truncation=True, is_split_into_words=True\n",
        "    )\n",
        "    all_labels = examples[\"tags\"]\n",
        "    new_labels = []\n",
        "    for i, labels in enumerate(all_labels):\n",
        "        word_ids = tokenized_inputs.word_ids(i)\n",
        "        new_labels.append(align_labels_with_tokens(labels, word_ids))\n",
        "\n",
        "    tokenized_inputs[\"labels\"] = new_labels\n",
        "    return tokenized_inputs\n",
        "\n",
        "tokenized_dataset = raw_dataset.map(\n",
        "    tokenize_and_align_labels,\n",
        "    batched=True,\n",
        "    remove_columns=raw_dataset.column_names,\n",
        ")\n",
        "\n",
        "data_collator = DataCollatorForTokenClassification(tokenizer=tokenizer)\n",
        "\n",
        "shuffle_seed = None\n",
        "\n",
        "if shuffle_seed:\n",
        "  tokenized_dataset = tokenized_dataset.shuffle(seed=shuffle_seed)\n",
        "\n",
        "train_dataset, test_dataset = tokenized_dataset.train_test_split(test_size=0.1).values()"
      ]
    },
    {
      "cell_type": "markdown",
      "metadata": {
        "id": "WA-M2DZtHJj9"
      },
      "source": [
        "## Define Metrics"
      ]
    },
    {
      "cell_type": "code",
      "execution_count": 7,
      "metadata": {
        "id": "oavUmL7gEqxu"
      },
      "outputs": [],
      "source": [
        "from transformers import AutoModelForTokenClassification, DataCollatorForTokenClassification\n",
        "import numpy as np\n",
        "import evaluate\n",
        "\n",
        "metric = evaluate.load(\"seqeval\")\n",
        "\n",
        "def compute_metrics(eval_preds):\n",
        "    logits, labels = eval_preds\n",
        "    predictions = np.argmax(logits, axis=-1)\n",
        "\n",
        "    # Remove ignored index (special tokens) and convert to labels\n",
        "    true_labels = [[label_names[l] for l in label if l != -100] for label in labels]\n",
        "    true_predictions = [\n",
        "        [label_names[p] for (p, l) in zip(prediction, label) if l != -100]\n",
        "        for prediction, label in zip(predictions, labels)\n",
        "    ]\n",
        "\n",
        "    # TODO: create per-class F1 score / binary cross entropy\n",
        "    all_metrics = metric.compute(predictions=true_predictions, references=true_labels)\n",
        "    return {\n",
        "        \"precision\": all_metrics[\"overall_precision\"],\n",
        "        \"recall\": all_metrics[\"overall_recall\"],\n",
        "        \"f1\": all_metrics[\"overall_f1\"],\n",
        "        \"accuracy\": all_metrics[\"overall_accuracy\"],\n",
        "    }\n"
      ]
    },
    {
      "cell_type": "markdown",
      "metadata": {
        "id": "LrutiRFbHNJQ"
      },
      "source": [
        "## Initialize Model"
      ]
    },
    {
      "cell_type": "code",
      "execution_count": 8,
      "metadata": {
        "id": "FeIZXhYIHMR7"
      },
      "outputs": [],
      "source": [
        "from transformers import AutoConfig, AutoModelForTokenClassification\n",
        "\n",
        "configuration = AutoConfig.from_pretrained(model_checkpoint)\n",
        "configuration.update({\"_num_labels\": 15, 'label2id': label2id, 'id2label':id2label})\n",
        "model = AutoModelForTokenClassification.from_config(configuration)\n"
      ]
    },
    {
      "cell_type": "code",
      "execution_count": 9,
      "metadata": {
        "id": "UAWYkTtlabRq"
      },
      "outputs": [],
      "source": [
        "# model._init_weights(model.classifier)\n",
        "\n",
        "# for param in model.parameters():\n",
        "#   param.require_grad = False\n",
        "# for param in model.classifier.parameters():\n",
        "#   param.require_grad = True\n",
        "# model = AutoModelForTokenClassification.from_pretrained(\n",
        "#     model_checkpoint, num_labels=15, id2label=id2label, label2id=label2id\n",
        "# )"
      ]
    },
    {
      "cell_type": "code",
      "execution_count": null,
      "metadata": {
        "colab": {
          "base_uri": "https://localhost:8080/"
        },
        "id": "kc8hfFTPnIQv",
        "outputId": "583c02f7-3626-45f1-d44e-62b4d920041c"
      },
      "outputs": [],
      "source": []
    },
    {
      "cell_type": "code",
      "execution_count": 10,
      "metadata": {},
      "outputs": [
        {
          "name": "stderr",
          "output_type": "stream",
          "text": [
            "Some weights of the model checkpoint at dslim/bert-base-NER were not used when initializing BertForTokenClassification: ['bert.pooler.dense.bias', 'bert.pooler.dense.weight']\n",
            "- This IS expected if you are initializing BertForTokenClassification from the checkpoint of a model trained on another task or with another architecture (e.g. initializing a BertForSequenceClassification model from a BertForPreTraining model).\n",
            "- This IS NOT expected if you are initializing BertForTokenClassification from the checkpoint of a model that you expect to be exactly identical (initializing a BertForSequenceClassification model from a BertForSequenceClassification model).\n"
          ]
        }
      ],
      "source": [
        "model = AutoModelForTokenClassification.from_pretrained(model_checkpoint)\n",
        "model.classifier = torch.nn.Linear(model.classifier.in_features, 15, bias=model.classifier.bias is not None)\n",
        "model.config.update({'_num_labels': 15, 'label2id': label2id, 'id2label': id2label})\n",
        "model.num_labels = 15\n",
        "model.init_weights()"
      ]
    },
    {
      "cell_type": "code",
      "execution_count": 11,
      "metadata": {
        "id": "MDa6zhTDjP2c"
      },
      "outputs": [],
      "source": [
        "# from peft import TaskType, LoraConfig, get_peft_model\n",
        "\n",
        "\n",
        "# peft_config = LoraConfig(\n",
        "#     task_type=TaskType.TOKEN_CLS, inference_mode=False, r=16, lora_alpha=16, lora_dropout=0.1, bias=\"all\"\n",
        "# )\n",
        "# model = get_peft_model(model, peft_config)\n",
        "\n",
        "# # model.bert.print_trainable_parameters()"
      ]
    },
    {
      "cell_type": "markdown",
      "metadata": {
        "id": "cYAmJkRGHYSJ"
      },
      "source": [
        "## Setup Trainer"
      ]
    },
    {
      "cell_type": "code",
      "execution_count": 12,
      "metadata": {
        "id": "G_tTRyxBHXmi"
      },
      "outputs": [],
      "source": [
        "from transformers import TrainingArguments, Trainer\n",
        "\n",
        "model_output_dir = f\"{model_checkpoint}-finetuned-ner\"\n",
        "\n",
        "args = TrainingArguments(\n",
        "    output_dir=model_output_dir,\n",
        "    # evaluation_strategy=\"epoch\",\n",
        "    # save_strategy=\"epoch\",\n",
        "    # learning_rate=2e-5,\n",
        "    # num_train_epochs=10,\n",
        "    # weight_decay=0.01,\n",
        "    # push_to_hub=False,\n",
        "    learning_rate=lr,\n",
        "    per_device_train_batch_size=batch_size,\n",
        "    per_device_eval_batch_size=batch_size,\n",
        "    num_train_epochs=num_epochs,\n",
        "    weight_decay=0.01,\n",
        "    evaluation_strategy=\"epoch\",\n",
        "    save_strategy=\"epoch\",\n",
        "    load_best_model_at_end=True,\n",
        "    report_to=\"tensorboard\"\n",
        ")\n",
        "\n",
        "\n",
        "trainer = Trainer(\n",
        "    model=model,\n",
        "    args=args,\n",
        "    train_dataset=train_dataset,\n",
        "    eval_dataset=test_dataset,\n",
        "    data_collator=data_collator,\n",
        "    compute_metrics=compute_metrics,\n",
        "    tokenizer=tokenizer,\n",
        ")"
      ]
    },
    {
      "cell_type": "markdown",
      "metadata": {
        "id": "raXFDiH9HhYN"
      },
      "source": [
        "## Training"
      ]
    },
    {
      "cell_type": "code",
      "execution_count": 13,
      "metadata": {
        "colab": {
          "base_uri": "https://localhost:8080/",
          "height": 498
        },
        "id": "5FfaigIWHELN",
        "outputId": "14eb8bf4-a366-41c1-f8f4-104a29c104ea"
      },
      "outputs": [
        {
          "name": "stderr",
          "output_type": "stream",
          "text": [
            "You're using a BertTokenizerFast tokenizer. Please note that with a fast tokenizer, using the `__call__` method is faster than using a method to encode the text followed by a call to the `pad` method to get a padded encoding.\n"
          ]
        },
        {
          "data": {
            "text/html": [
              "\n",
              "    <div>\n",
              "      \n",
              "      <progress value='678' max='678' style='width:300px; height:20px; vertical-align: middle;'></progress>\n",
              "      [678/678 00:41, Epoch 1/1]\n",
              "    </div>\n",
              "    <table border=\"1\" class=\"dataframe\">\n",
              "  <thead>\n",
              " <tr style=\"text-align: left;\">\n",
              "      <th>Epoch</th>\n",
              "      <th>Training Loss</th>\n",
              "      <th>Validation Loss</th>\n",
              "      <th>Precision</th>\n",
              "      <th>Recall</th>\n",
              "      <th>F1</th>\n",
              "      <th>Accuracy</th>\n",
              "    </tr>\n",
              "  </thead>\n",
              "  <tbody>\n",
              "    <tr>\n",
              "      <td>1</td>\n",
              "      <td>0.262800</td>\n",
              "      <td>0.155386</td>\n",
              "      <td>0.397196</td>\n",
              "      <td>0.313653</td>\n",
              "      <td>0.350515</td>\n",
              "      <td>0.963613</td>\n",
              "    </tr>\n",
              "  </tbody>\n",
              "</table><p>"
            ],
            "text/plain": [
              "<IPython.core.display.HTML object>"
            ]
          },
          "metadata": {},
          "output_type": "display_data"
        },
        {
          "name": "stderr",
          "output_type": "stream",
          "text": [
            "[W kineto_shim.cpp:343] Profiler is not initialized: skipping step() invocation\n",
            "[W kineto_shim.cpp:343] Profiler is not initialized: skipping step() invocation\n",
            "[W kineto_shim.cpp:343] Profiler is not initialized: skipping step() invocation\n",
            "WARNING:2023-10-27 13:15:16 606808:606808 init.cpp:146] function cbapi->getCuptiStatus() failed with error CUPTI_ERROR_NOT_INITIALIZED (15)\n",
            "WARNING:2023-10-27 13:15:16 606808:606808 init.cpp:147] CUPTI initialization failed - CUDA profiler activities will be missing\n",
            "INFO:2023-10-27 13:15:16 606808:606808 init.cpp:149] If you see CUPTI_ERROR_INSUFFICIENT_PRIVILEGES, refer to https://developer.nvidia.com/nvidia-development-tools-solutions-err-nvgpuctrperm-cupti\n",
            "STAGE:2023-10-27 13:15:16 606808:606808 ActivityProfilerController.cpp:311] Completed Stage: Warm Up\n",
            "STAGE:2023-10-27 13:15:16 606808:606808 ActivityProfilerController.cpp:317] Completed Stage: Collection\n",
            "STAGE:2023-10-27 13:15:16 606808:606808 ActivityProfilerController.cpp:321] Completed Stage: Post Processing\n",
            "STAGE:2023-10-27 13:15:18 606808:606808 ActivityProfilerController.cpp:311] Completed Stage: Warm Up\n",
            "STAGE:2023-10-27 13:15:18 606808:606808 ActivityProfilerController.cpp:317] Completed Stage: Collection\n",
            "STAGE:2023-10-27 13:15:18 606808:606808 ActivityProfilerController.cpp:321] Completed Stage: Post Processing\n",
            "/home/renyit/torch/lib/python3.10/site-packages/seqeval/metrics/v1.py:57: UndefinedMetricWarning: Precision and F-score are ill-defined and being set to 0.0 in labels with no predicted samples. Use `zero_division` parameter to control this behavior.\n",
            "  _warn_prf(average, modifier, msg_start, len(result))\n"
          ]
        }
      ],
      "source": [
        "from transformers import TrainerCallback\n",
        "import torch\n",
        "\n",
        "class ProfCallback(TrainerCallback):\n",
        "    def __init__(self, prof):\n",
        "        self.prof = prof\n",
        "\n",
        "    def on_step_end(self, args, state, control, **kwargs):\n",
        "        self.prof.step()\n",
        "\n",
        "\n",
        "with torch.profiler.profile(activities=[torch.profiler.ProfilerActivity.CPU,\n",
        "                                        torch.profiler.ProfilerActivity.CUDA],\n",
        "                            schedule=torch.profiler.schedule(skip_first=3, wait=1, warmup=1, active=2, repeat=2),\n",
        "                            on_trace_ready=torch.profiler.tensorboard_trace_handler('hf-training-trainer'),\n",
        "                            profile_memory=True,\n",
        "                            with_stack=True,\n",
        "                            record_shapes=True) as prof:\n",
        "\n",
        "    trainer.add_callback(ProfCallback(prof=prof))\n",
        "    trainer.train()\n",
        "\n",
        "# TODO: Record Eval\n",
        "\n",
        "# TODO: Performance Analysis using torch profiler (tensorboardX)"
      ]
    },
    {
      "cell_type": "markdown",
      "metadata": {},
      "source": [
        "## Inference"
      ]
    },
    {
      "cell_type": "code",
      "execution_count": null,
      "metadata": {},
      "outputs": [
        {
          "ename": "NameError",
          "evalue": "name 'split' is not defined",
          "output_type": "error",
          "traceback": [
            "\u001b[0;31m---------------------------------------------------------------------------\u001b[0m",
            "\u001b[0;31mNameError\u001b[0m                                 Traceback (most recent call last)",
            "\u001b[1;32m/home/renyit/projects/11711/nlp-from-scratch-assignment-2023/src/NER_Pipeline.ipynb Cell 23\u001b[0m line \u001b[0;36m4\n\u001b[1;32m     <a href='vscode-notebook-cell://wsl%2Bubuntu/home/renyit/projects/11711/nlp-from-scratch-assignment-2023/src/NER_Pipeline.ipynb#X31sdnNjb2RlLXJlbW90ZQ%3D%3D?line=40'>41</a>\u001b[0m         f\u001b[39m.\u001b[39mwrite(conll_predictions)\n\u001b[1;32m     <a href='vscode-notebook-cell://wsl%2Bubuntu/home/renyit/projects/11711/nlp-from-scratch-assignment-2023/src/NER_Pipeline.ipynb#X31sdnNjb2RlLXJlbW90ZQ%3D%3D?line=42'>43</a>\u001b[0m model_name \u001b[39m=\u001b[39m model_checkpoint\u001b[39m.\u001b[39mreplace(\u001b[39m'\u001b[39m\u001b[39m/\u001b[39m\u001b[39m'\u001b[39m, \u001b[39m'\u001b[39m\u001b[39m_\u001b[39m\u001b[39m'\u001b[39m)\n\u001b[0;32m---> <a href='vscode-notebook-cell://wsl%2Bubuntu/home/renyit/projects/11711/nlp-from-scratch-assignment-2023/src/NER_Pipeline.ipynb#X31sdnNjb2RlLXJlbW90ZQ%3D%3D?line=43'>44</a>\u001b[0m inference(\u001b[39mf\u001b[39;49m\u001b[39m\"\u001b[39;49m\u001b[39m../data/bert.txt\u001b[39;49m\u001b[39m\"\u001b[39;49m, \u001b[39mf\u001b[39;49m\u001b[39m\"\u001b[39;49m\u001b[39m../data/bert_output_\u001b[39;49m\u001b[39m{\u001b[39;49;00mmodel_name\u001b[39m}\u001b[39;49;00m\u001b[39m.conll\u001b[39;49m\u001b[39m\"\u001b[39;49m)\n\u001b[1;32m     <a href='vscode-notebook-cell://wsl%2Bubuntu/home/renyit/projects/11711/nlp-from-scratch-assignment-2023/src/NER_Pipeline.ipynb#X31sdnNjb2RlLXJlbW90ZQ%3D%3D?line=44'>45</a>\u001b[0m inference(\u001b[39mf\u001b[39m\u001b[39m\"\u001b[39m\u001b[39m../data/test.txt\u001b[39m\u001b[39m\"\u001b[39m, \u001b[39mf\u001b[39m\u001b[39m\"\u001b[39m\u001b[39m../data/test_output_\u001b[39m\u001b[39m{\u001b[39;00mmodel_name\u001b[39m}\u001b[39;00m\u001b[39m.conll\u001b[39m\u001b[39m\"\u001b[39m)\n\u001b[1;32m     <a href='vscode-notebook-cell://wsl%2Bubuntu/home/renyit/projects/11711/nlp-from-scratch-assignment-2023/src/NER_Pipeline.ipynb#X31sdnNjb2RlLXJlbW90ZQ%3D%3D?line=45'>46</a>\u001b[0m inference(\u001b[39mf\u001b[39m\u001b[39m\"\u001b[39m\u001b[39m../data/test2.txt\u001b[39m\u001b[39m\"\u001b[39m, \u001b[39mf\u001b[39m\u001b[39m\"\u001b[39m\u001b[39m../data/test2_output_\u001b[39m\u001b[39m{\u001b[39;00mmodel_name\u001b[39m}\u001b[39;00m\u001b[39m.conll\u001b[39m\u001b[39m\"\u001b[39m)\n",
            "\u001b[1;32m/home/renyit/projects/11711/nlp-from-scratch-assignment-2023/src/NER_Pipeline.ipynb Cell 23\u001b[0m line \u001b[0;36m2\n\u001b[1;32m     <a href='vscode-notebook-cell://wsl%2Bubuntu/home/renyit/projects/11711/nlp-from-scratch-assignment-2023/src/NER_Pipeline.ipynb#X31sdnNjb2RlLXJlbW90ZQ%3D%3D?line=18'>19</a>\u001b[0m \u001b[39mfor\u001b[39;00m sentence \u001b[39min\u001b[39;00m text:\n\u001b[1;32m     <a href='vscode-notebook-cell://wsl%2Bubuntu/home/renyit/projects/11711/nlp-from-scratch-assignment-2023/src/NER_Pipeline.ipynb#X31sdnNjb2RlLXJlbW90ZQ%3D%3D?line=19'>20</a>\u001b[0m     result \u001b[39m=\u001b[39m []\n\u001b[0;32m---> <a href='vscode-notebook-cell://wsl%2Bubuntu/home/renyit/projects/11711/nlp-from-scratch-assignment-2023/src/NER_Pipeline.ipynb#X31sdnNjb2RlLXJlbW90ZQ%3D%3D?line=21'>22</a>\u001b[0m     inputs \u001b[39m=\u001b[39m tokenizer(split, return_tensors\u001b[39m=\u001b[39m\u001b[39m'\u001b[39m\u001b[39mpt\u001b[39m\u001b[39m'\u001b[39m, is_split_into_words\u001b[39m=\u001b[39m\u001b[39mTrue\u001b[39;00m, padding\u001b[39m=\u001b[39m\u001b[39m'\u001b[39m\u001b[39mmax_length\u001b[39m\u001b[39m'\u001b[39m)\u001b[39m.\u001b[39mto(device)\n\u001b[1;32m     <a href='vscode-notebook-cell://wsl%2Bubuntu/home/renyit/projects/11711/nlp-from-scratch-assignment-2023/src/NER_Pipeline.ipynb#X31sdnNjb2RlLXJlbW90ZQ%3D%3D?line=22'>23</a>\u001b[0m     word_ids \u001b[39m=\u001b[39m inputs\u001b[39m.\u001b[39mword_ids()\n\u001b[1;32m     <a href='vscode-notebook-cell://wsl%2Bubuntu/home/renyit/projects/11711/nlp-from-scratch-assignment-2023/src/NER_Pipeline.ipynb#X31sdnNjb2RlLXJlbW90ZQ%3D%3D?line=23'>24</a>\u001b[0m     s \u001b[39m=\u001b[39m inputs[\u001b[39m'\u001b[39m\u001b[39minput_ids\u001b[39m\u001b[39m'\u001b[39m]\u001b[39m.\u001b[39mshape[\u001b[39m1\u001b[39m]\n",
            "\u001b[0;31mNameError\u001b[0m: name 'split' is not defined"
          ]
        }
      ],
      "source": [
        "def conll_format(results):\n",
        "    conll_output = \"\"\n",
        "    for result in results:\n",
        "      for word, label in result:\n",
        "        conll_output += f\"{word}\\t{label}\\n\"\n",
        "      conll_output += \"\\n\"\n",
        "    return conll_output\n",
        "\n",
        "def split_text(text, chunk_size):\n",
        "    return [text[i:i+chunk_size]\n",
        "          for i in range(0, len(text), chunk_size)]\n",
        "  \n",
        "def inference(input_file, output_file):\n",
        "    text = []\n",
        "    with open(input_file, \"r\") as file:\n",
        "        for line in file:\n",
        "            text.append(line.split())\n",
        "    results = []\n",
        "    for sentence in text:\n",
        "        result = []\n",
        "            \n",
        "        inputs = tokenizer(sentence, return_tensors='pt', is_split_into_words=True, padding='max_length').to(device)\n",
        "        word_ids = inputs.word_ids()\n",
        "        print(len(word_ids))\n",
        "        \n",
        "        s = inputs['input_ids'].shape[1]\n",
        "        with torch.no_grad():\n",
        "            logits = model(**inputs).logits\n",
        "        tokens = inputs.tokens()\n",
        "        \n",
        "        predictions = torch.argmax(logits, dim=2)\n",
        "        predictions = predictions[0].cpu().numpy()\n",
        "        \n",
        "        prev_word_id = None\n",
        "        for token, prediction, word_id in zip(tokens, predictions, word_ids):\n",
        "            if word_id != None and word_id != prev_word_id:\n",
        "                prev_word_id = word_id\n",
        "                result.append((sentence[word_id], model.config.id2label[prediction]))\n",
        "        results.append(result)\n",
        "    conll_predictions = conll_format(results)\n",
        "\n",
        "    with open(output_file, \"w\") as f:\n",
        "        f.write(conll_predictions)\n",
        "\n",
        "model_name = model_checkpoint.replace('/', '_')\n",
        "inference(f\"../data/bert.txt\", f\"../data/bert_output_{model_name}.conll\")\n",
        "inference(f\"../data/test.txt\", f\"../data/test_output_{model_name}.conll\")\n",
        "inference(f\"../data/test2.txt\", f\"../data/test2_output_{model_name}.conll\")"
      ]
    },
    {
      "cell_type": "markdown",
      "metadata": {
        "id": "JX-2SVIJLHcc"
      },
      "source": [
        "## PEFT"
      ]
    },
    {
      "cell_type": "code",
      "execution_count": null,
      "metadata": {
        "id": "nPpoNSxtLG6E"
      },
      "outputs": [],
      "source": []
    },
    {
      "cell_type": "code",
      "execution_count": null,
      "metadata": {
        "colab": {
          "base_uri": "https://localhost:8080/"
        },
        "id": "yWJAInUmGp-o",
        "outputId": "b2349e79-67f7-4ff0-83d4-4ceb93ba467e"
      },
      "outputs": [],
      "source": [
        "# !pip install torch_tb_profiler"
      ]
    },
    {
      "cell_type": "code",
      "execution_count": null,
      "metadata": {
        "colab": {
          "base_uri": "https://localhost:8080/",
          "height": 1000
        },
        "id": "W_LAxeycKYdn",
        "outputId": "f7cfe4ea-082c-42fa-a663-aca97eb05cc9"
      },
      "outputs": [],
      "source": [
        "# !tensorboard --logdir=./hf-training-trainer"
      ]
    },
    {
      "cell_type": "code",
      "execution_count": null,
      "metadata": {
        "id": "dK5in0NDG4OR"
      },
      "outputs": [],
      "source": [
        "# from numba import cuda\n",
        "# device = cuda.get_current_device()\n",
        "# device.reset()"
      ]
    },
    {
      "cell_type": "code",
      "execution_count": null,
      "metadata": {
        "id": "qz_UfSMfrvvq"
      },
      "outputs": [],
      "source": []
    }
  ],
  "metadata": {
    "accelerator": "GPU",
    "colab": {
      "gpuType": "T4",
      "provenance": []
    },
    "kernelspec": {
      "display_name": "Python 3",
      "name": "python3"
    },
    "language_info": {
      "codemirror_mode": {
        "name": "ipython",
        "version": 3
      },
      "file_extension": ".py",
      "mimetype": "text/x-python",
      "name": "python",
      "nbconvert_exporter": "python",
      "pygments_lexer": "ipython3",
      "version": "3.10.12"
    },
    "widgets": {
      "application/vnd.jupyter.widget-state+json": {
        "119b7b87b4d14da28982628c0983d7d0": {
          "model_module": "@jupyter-widgets/controls",
          "model_module_version": "1.5.0",
          "model_name": "HBoxModel",
          "state": {
            "_dom_classes": [],
            "_model_module": "@jupyter-widgets/controls",
            "_model_module_version": "1.5.0",
            "_model_name": "HBoxModel",
            "_view_count": null,
            "_view_module": "@jupyter-widgets/controls",
            "_view_module_version": "1.5.0",
            "_view_name": "HBoxView",
            "box_style": "",
            "children": [
              "IPY_MODEL_c5e20ed8e57f46e1be147b41e80393cd",
              "IPY_MODEL_c958b9878fcc4041bc8b4e1fcddebc9d",
              "IPY_MODEL_57e5bdc1fe4b43868ac623e754b03a56"
            ],
            "layout": "IPY_MODEL_53086320c6d0495bbde777971ba5f14e"
          }
        },
        "1abda2376c434f1482916578f6a36c40": {
          "model_module": "@jupyter-widgets/base",
          "model_module_version": "1.2.0",
          "model_name": "LayoutModel",
          "state": {
            "_model_module": "@jupyter-widgets/base",
            "_model_module_version": "1.2.0",
            "_model_name": "LayoutModel",
            "_view_count": null,
            "_view_module": "@jupyter-widgets/base",
            "_view_module_version": "1.2.0",
            "_view_name": "LayoutView",
            "align_content": null,
            "align_items": null,
            "align_self": null,
            "border": null,
            "bottom": null,
            "display": null,
            "flex": null,
            "flex_flow": null,
            "grid_area": null,
            "grid_auto_columns": null,
            "grid_auto_flow": null,
            "grid_auto_rows": null,
            "grid_column": null,
            "grid_gap": null,
            "grid_row": null,
            "grid_template_areas": null,
            "grid_template_columns": null,
            "grid_template_rows": null,
            "height": null,
            "justify_content": null,
            "justify_items": null,
            "left": null,
            "margin": null,
            "max_height": null,
            "max_width": null,
            "min_height": null,
            "min_width": null,
            "object_fit": null,
            "object_position": null,
            "order": null,
            "overflow": null,
            "overflow_x": null,
            "overflow_y": null,
            "padding": null,
            "right": null,
            "top": null,
            "visibility": null,
            "width": null
          }
        },
        "1e6c9db532394d23aaf5b4de593dbd79": {
          "model_module": "@jupyter-widgets/controls",
          "model_module_version": "1.5.0",
          "model_name": "DescriptionStyleModel",
          "state": {
            "_model_module": "@jupyter-widgets/controls",
            "_model_module_version": "1.5.0",
            "_model_name": "DescriptionStyleModel",
            "_view_count": null,
            "_view_module": "@jupyter-widgets/base",
            "_view_module_version": "1.2.0",
            "_view_name": "StyleView",
            "description_width": ""
          }
        },
        "295cb1975ad6471bb4e891961a2c9456": {
          "model_module": "@jupyter-widgets/base",
          "model_module_version": "1.2.0",
          "model_name": "LayoutModel",
          "state": {
            "_model_module": "@jupyter-widgets/base",
            "_model_module_version": "1.2.0",
            "_model_name": "LayoutModel",
            "_view_count": null,
            "_view_module": "@jupyter-widgets/base",
            "_view_module_version": "1.2.0",
            "_view_name": "LayoutView",
            "align_content": null,
            "align_items": null,
            "align_self": null,
            "border": null,
            "bottom": null,
            "display": null,
            "flex": null,
            "flex_flow": null,
            "grid_area": null,
            "grid_auto_columns": null,
            "grid_auto_flow": null,
            "grid_auto_rows": null,
            "grid_column": null,
            "grid_gap": null,
            "grid_row": null,
            "grid_template_areas": null,
            "grid_template_columns": null,
            "grid_template_rows": null,
            "height": null,
            "justify_content": null,
            "justify_items": null,
            "left": null,
            "margin": null,
            "max_height": null,
            "max_width": null,
            "min_height": null,
            "min_width": null,
            "object_fit": null,
            "object_position": null,
            "order": null,
            "overflow": null,
            "overflow_x": null,
            "overflow_y": null,
            "padding": null,
            "right": null,
            "top": null,
            "visibility": null,
            "width": null
          }
        },
        "53086320c6d0495bbde777971ba5f14e": {
          "model_module": "@jupyter-widgets/base",
          "model_module_version": "1.2.0",
          "model_name": "LayoutModel",
          "state": {
            "_model_module": "@jupyter-widgets/base",
            "_model_module_version": "1.2.0",
            "_model_name": "LayoutModel",
            "_view_count": null,
            "_view_module": "@jupyter-widgets/base",
            "_view_module_version": "1.2.0",
            "_view_name": "LayoutView",
            "align_content": null,
            "align_items": null,
            "align_self": null,
            "border": null,
            "bottom": null,
            "display": null,
            "flex": null,
            "flex_flow": null,
            "grid_area": null,
            "grid_auto_columns": null,
            "grid_auto_flow": null,
            "grid_auto_rows": null,
            "grid_column": null,
            "grid_gap": null,
            "grid_row": null,
            "grid_template_areas": null,
            "grid_template_columns": null,
            "grid_template_rows": null,
            "height": null,
            "justify_content": null,
            "justify_items": null,
            "left": null,
            "margin": null,
            "max_height": null,
            "max_width": null,
            "min_height": null,
            "min_width": null,
            "object_fit": null,
            "object_position": null,
            "order": null,
            "overflow": null,
            "overflow_x": null,
            "overflow_y": null,
            "padding": null,
            "right": null,
            "top": null,
            "visibility": null,
            "width": null
          }
        },
        "57e5bdc1fe4b43868ac623e754b03a56": {
          "model_module": "@jupyter-widgets/controls",
          "model_module_version": "1.5.0",
          "model_name": "HTMLModel",
          "state": {
            "_dom_classes": [],
            "_model_module": "@jupyter-widgets/controls",
            "_model_module_version": "1.5.0",
            "_model_name": "HTMLModel",
            "_view_count": null,
            "_view_module": "@jupyter-widgets/controls",
            "_view_module_version": "1.5.0",
            "_view_name": "HTMLView",
            "description": "",
            "description_tooltip": null,
            "layout": "IPY_MODEL_1abda2376c434f1482916578f6a36c40",
            "placeholder": "​",
            "style": "IPY_MODEL_1e6c9db532394d23aaf5b4de593dbd79",
            "value": " 6027/6027 [00:02&lt;00:00, 2847.89 examples/s]"
          }
        },
        "595cbbd81f6c4a1e886ecc20c56b4901": {
          "model_module": "@jupyter-widgets/controls",
          "model_module_version": "1.5.0",
          "model_name": "DescriptionStyleModel",
          "state": {
            "_model_module": "@jupyter-widgets/controls",
            "_model_module_version": "1.5.0",
            "_model_name": "DescriptionStyleModel",
            "_view_count": null,
            "_view_module": "@jupyter-widgets/base",
            "_view_module_version": "1.2.0",
            "_view_name": "StyleView",
            "description_width": ""
          }
        },
        "c5e20ed8e57f46e1be147b41e80393cd": {
          "model_module": "@jupyter-widgets/controls",
          "model_module_version": "1.5.0",
          "model_name": "HTMLModel",
          "state": {
            "_dom_classes": [],
            "_model_module": "@jupyter-widgets/controls",
            "_model_module_version": "1.5.0",
            "_model_name": "HTMLModel",
            "_view_count": null,
            "_view_module": "@jupyter-widgets/controls",
            "_view_module_version": "1.5.0",
            "_view_name": "HTMLView",
            "description": "",
            "description_tooltip": null,
            "layout": "IPY_MODEL_295cb1975ad6471bb4e891961a2c9456",
            "placeholder": "​",
            "style": "IPY_MODEL_595cbbd81f6c4a1e886ecc20c56b4901",
            "value": "Map: 100%"
          }
        },
        "c958b9878fcc4041bc8b4e1fcddebc9d": {
          "model_module": "@jupyter-widgets/controls",
          "model_module_version": "1.5.0",
          "model_name": "FloatProgressModel",
          "state": {
            "_dom_classes": [],
            "_model_module": "@jupyter-widgets/controls",
            "_model_module_version": "1.5.0",
            "_model_name": "FloatProgressModel",
            "_view_count": null,
            "_view_module": "@jupyter-widgets/controls",
            "_view_module_version": "1.5.0",
            "_view_name": "ProgressView",
            "bar_style": "success",
            "description": "",
            "description_tooltip": null,
            "layout": "IPY_MODEL_e6e54f21bc9d46f9857d63f61f84e1e0",
            "max": 6027,
            "min": 0,
            "orientation": "horizontal",
            "style": "IPY_MODEL_d4b2d737fb9d46569ed861376188ae30",
            "value": 6027
          }
        },
        "d4b2d737fb9d46569ed861376188ae30": {
          "model_module": "@jupyter-widgets/controls",
          "model_module_version": "1.5.0",
          "model_name": "ProgressStyleModel",
          "state": {
            "_model_module": "@jupyter-widgets/controls",
            "_model_module_version": "1.5.0",
            "_model_name": "ProgressStyleModel",
            "_view_count": null,
            "_view_module": "@jupyter-widgets/base",
            "_view_module_version": "1.2.0",
            "_view_name": "StyleView",
            "bar_color": null,
            "description_width": ""
          }
        },
        "e6e54f21bc9d46f9857d63f61f84e1e0": {
          "model_module": "@jupyter-widgets/base",
          "model_module_version": "1.2.0",
          "model_name": "LayoutModel",
          "state": {
            "_model_module": "@jupyter-widgets/base",
            "_model_module_version": "1.2.0",
            "_model_name": "LayoutModel",
            "_view_count": null,
            "_view_module": "@jupyter-widgets/base",
            "_view_module_version": "1.2.0",
            "_view_name": "LayoutView",
            "align_content": null,
            "align_items": null,
            "align_self": null,
            "border": null,
            "bottom": null,
            "display": null,
            "flex": null,
            "flex_flow": null,
            "grid_area": null,
            "grid_auto_columns": null,
            "grid_auto_flow": null,
            "grid_auto_rows": null,
            "grid_column": null,
            "grid_gap": null,
            "grid_row": null,
            "grid_template_areas": null,
            "grid_template_columns": null,
            "grid_template_rows": null,
            "height": null,
            "justify_content": null,
            "justify_items": null,
            "left": null,
            "margin": null,
            "max_height": null,
            "max_width": null,
            "min_height": null,
            "min_width": null,
            "object_fit": null,
            "object_position": null,
            "order": null,
            "overflow": null,
            "overflow_x": null,
            "overflow_y": null,
            "padding": null,
            "right": null,
            "top": null,
            "visibility": null,
            "width": null
          }
        }
      }
    }
  },
  "nbformat": 4,
  "nbformat_minor": 0
}
